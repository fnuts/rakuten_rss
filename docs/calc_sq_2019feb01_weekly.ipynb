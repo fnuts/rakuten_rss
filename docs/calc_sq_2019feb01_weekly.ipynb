{
 "cells": [
  {
   "cell_type": "markdown",
   "metadata": {
    "collapsed": true
   },
   "source": [
    "## SQ計算"
   ]
  },
  {
   "cell_type": "code",
   "execution_count": 3,
   "metadata": {},
   "outputs": [],
   "source": [
    "# 初期設定：CSVファイルから、日経２２５社のコード取得しておく\n",
    "\n",
    "import pandas as pd\n",
    "df = pd.read_csv('https://raw.githubusercontent.com/zaq9/nk225_list/master/nk225_list.csv')\n",
    "\n"
   ]
  },
  {
   "cell_type": "code",
   "execution_count": 8,
   "metadata": {},
   "outputs": [
    {
     "name": "stdout",
     "output_type": "stream",
     "text": [
      "   code      name  gakumen    open\n0  1332      日本水産     50.0   670.0\n1  1333    マルハニチロ    500.0  3730.0\n2  1605  国際石油開発帝石    125.0  1039.0\n"
     ]
    }
   ],
   "source": [
    "print(df.head(3))"
   ]
  },
  {
   "cell_type": "code",
   "execution_count": 7,
   "metadata": {},
   "outputs": [],
   "source": [
    "#楽天RSSを利用し、225社の始値を取得 (約２０秒）\n",
    "\n",
    "from rakuten_rss import fetch_open\n",
    "\n",
    "df['open'] = df.code.apply(lambda x: fetch_open(x))"
   ]
  },
  {
   "cell_type": "code",
   "execution_count": 10,
   "metadata": {},
   "outputs": [
    {
     "name": "stdout",
     "output_type": "stream",
     "text": [
      "日経平均(SQ値） = 20793.00 \n"
     ]
    }
   ],
   "source": [
    "#SQ値計算：(取引所発表　20793.00　と一致）\n",
    "\n",
    "josuu = 27.003  #　除数　\n",
    "df['minashi'] = df['open'] * (50.0 / df.gakumen)\n",
    "\n",
    "print(f\"日経平均(SQ値） = {df.minashi.sum() / josuu :0.2f} \")"
   ]
  }
 ],
 "metadata": {
  "kernelspec": {
   "display_name": "Python 2",
   "language": "python",
   "name": "python2"
  },
  "language_info": {
   "codemirror_mode": {
    "name": "ipython",
    "version": 2
   },
   "file_extension": ".py",
   "mimetype": "text/x-python",
   "name": "python",
   "nbconvert_exporter": "python",
   "pygments_lexer": "ipython2",
   "version": "2.7.6"
  }
 },
 "nbformat": 4,
 "nbformat_minor": 0
}
